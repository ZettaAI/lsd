{
 "cells": [
  {
   "cell_type": "code",
   "execution_count": 461,
   "metadata": {
    "collapsed": false
   },
   "outputs": [
    {
     "name": "stdout",
     "output_type": "stream",
     "text": [
      "Closing previously open test_agglomeration.hdf\n",
      "Adding dataset test_agglomeration.hdf/volumes/fragments as 1\n",
      "Adding dataset test_agglomeration.hdf/volumes/gt as 2\n",
      "Adding dataset test_agglomeration.hdf/volumes/segmentation as 3\n",
      "Adding dataset test_agglomeration.hdf/volumes/target_lsds as 4\n",
      "Adding dataset test_agglomeration.hdf/volumes/target_lsds as 5\n",
      "Adding dataset test_agglomeration.hdf/volumes/target_lsds as 6\n",
      "Adding dataset test_agglomeration.hdf/volumes/target_lsds as 7\n"
     ]
    },
    {
     "data": {
      "text/html": [
       "<iframe src=\"http://localhost:8888/neuroglancer#!%7B%22layers%22:%7B%221%22:%7B%22source%22:%22python://http://localhost:8888/727bc9fd2a32ffd48b324142c3a34abfc45c347d%22,%22type%22:%22segmentation%22%7D,%222%22:%7B%22source%22:%22python://http://localhost:8888/ad69bbcef0115a18648ced621d3bbef431b22386%22,%22type%22:%22segmentation%22%7D,%223%22:%7B%22source%22:%22python://http://localhost:8888/f09eb4e863471387611c5aa7ec776bc87a950e8e%22,%22type%22:%22segmentation%22%7D,%224%22:%7B%22source%22:%22python://http://localhost:8888/5ea450012e8d0444b83c7f8fb25683233382a94a%22,%22type%22:%22image%22,%22shader%22:%22void%20main()%20%7B%20emitRGB(vec3(toNormalized(getDataValue(0)),toNormalized(getDataValue(1)),toNormalized(getDataValue(2))));%20%7D%22%7D,%225%22:%7B%22source%22:%22python://http://localhost:8888/a4551648f4caad69579ace0194b39d27ea75bf25%22,%22type%22:%22image%22,%22shader%22:%22void%20main()%20%7B%20emitRGB(vec3(toNormalized(getDataValue(0)),toNormalized(getDataValue(1)),toNormalized(getDataValue(2))));%20%7D%22%7D,%226%22:%7B%22source%22:%22python://http://localhost:8888/4e44061be755844432887395f6d48fdde85b1433%22,%22type%22:%22image%22,%22shader%22:%22void%20main()%20%7B%20emitRGB(vec3(toNormalized(getDataValue(0)),toNormalized(getDataValue(1)),toNormalized(getDataValue(2))));%20%7D%22%7D,%227%22:%7B%22source%22:%22python://http://localhost:8888/d762decece5f9f4a091b631062aeb856362d0487%22,%22type%22:%22image%22,%22shader%22:%22void%20main()%20%7B%20emitRGB(vec3(toNormalized(getDataValue(0)),toNormalized(getDataValue(1)),toNormalized(getDataValue(2))));%20%7D%22%7D%7D%7D\" width=\"100%\" height=\"1024px\"><\\iframe>"
      ],
      "text/plain": [
       "<IPython.core.display.HTML object>"
      ]
     },
     "execution_count": 461,
     "metadata": {},
     "output_type": "execute_result"
    }
   ],
   "source": [
    "import nyroglancer\n",
    "\n",
    "viewer = nyroglancer.Hdf5Viewer('test_agglomeration.hdf', show_layer_numbers=True)\n",
    "viewer.show()"
   ]
  }
 ],
 "metadata": {
  "kernelspec": {
   "display_name": "Python 2",
   "language": "python",
   "name": "python2"
  },
  "language_info": {
   "codemirror_mode": {
    "name": "ipython",
    "version": 2
   },
   "file_extension": ".py",
   "mimetype": "text/x-python",
   "name": "python",
   "nbconvert_exporter": "python",
   "pygments_lexer": "ipython2",
   "version": "2.7.13"
  }
 },
 "nbformat": 4,
 "nbformat_minor": 1
}
